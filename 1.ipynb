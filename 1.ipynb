{
  "nbformat": 4,
  "nbformat_minor": 0,
  "metadata": {
    "colab": {
      "provenance": [],
      "authorship_tag": "ABX9TyP07KI6ykzOZ5wuRsYcL8Is",
      "include_colab_link": true
    },
    "kernelspec": {
      "name": "python3",
      "display_name": "Python 3"
    },
    "language_info": {
      "name": "python"
    }
  },
  "cells": [
    {
      "cell_type": "markdown",
      "metadata": {
        "id": "view-in-github",
        "colab_type": "text"
      },
      "source": [
        "<a href=\"https://colab.research.google.com/github/HaseebImd/Data-Science-ML-Google-Colab/blob/main/1.ipynb\" target=\"_parent\"><img src=\"https://colab.research.google.com/assets/colab-badge.svg\" alt=\"Open In Colab\"/></a>"
      ]
    },
    {
      "cell_type": "code",
      "execution_count": 1,
      "metadata": {
        "colab": {
          "base_uri": "https://localhost:8080/"
        },
        "id": "ZpWU2SElb-Tt",
        "outputId": "ba0aa65c-0474-4252-d594-c6d78bd92272"
      },
      "outputs": [
        {
          "output_type": "stream",
          "name": "stdout",
          "text": [
            "Testing to Github Colab\n"
          ]
        }
      ],
      "source": [
        "print(\"Testing to Github Colab\")\n"
      ]
    },
    {
      "cell_type": "code",
      "source": [
        "# if we want to do it"
      ],
      "metadata": {
        "id": "Epb5lNIudUj8"
      },
      "execution_count": null,
      "outputs": []
    }
  ]
}